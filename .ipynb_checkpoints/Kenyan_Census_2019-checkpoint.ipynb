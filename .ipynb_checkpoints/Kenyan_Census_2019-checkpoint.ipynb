{
 "cells": [
  {
   "cell_type": "code",
   "execution_count": 1,
   "id": "cce00dc8-5c20-40dd-9205-40bb48ef1e7e",
   "metadata": {},
   "outputs": [
    {
     "name": "stdout",
     "output_type": "stream",
     "text": [
      "       County  Male_Population  Female_Population  Intersex_Population  \\\n",
      "0     Mombasa           610257             598046                   30   \n",
      "1       Kwale           425121             441681                   18   \n",
      "2      Kilifi           704089             749673                   25   \n",
      "3  Tana River           158550             157391                    2   \n",
      "4        Lamu            76103              67813                    4   \n",
      "\n",
      "   Total_Population  \n",
      "0           1208333  \n",
      "1            866820  \n",
      "2           1453787  \n",
      "3            315943  \n",
      "4            143920  \n"
     ]
    }
   ],
   "source": [
    "import pandas as pd\n",
    "\n",
    "# Load the updated census data\n",
    "census_data = pd.read_csv(\"kenya-population-by-sex-and-county.csv\")\n",
    "\n",
    "# Inspect the data\n",
    "print(census_data.head())\n"
   ]
  },
  {
   "cell_type": "code",
   "execution_count": null,
   "id": "3c05d5e1-48a9-497c-96f5-8f8310a628d6",
   "metadata": {},
   "outputs": [],
   "source": []
  }
 ],
 "metadata": {
  "kernelspec": {
   "display_name": "Python 3 (ipykernel)",
   "language": "python",
   "name": "python3"
  },
  "language_info": {
   "codemirror_mode": {
    "name": "ipython",
    "version": 3
   },
   "file_extension": ".py",
   "mimetype": "text/x-python",
   "name": "python",
   "nbconvert_exporter": "python",
   "pygments_lexer": "ipython3",
   "version": "3.12.4"
  }
 },
 "nbformat": 4,
 "nbformat_minor": 5
}
