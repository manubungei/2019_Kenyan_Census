{
 "cells": [
  {
   "cell_type": "markdown",
   "id": "21964ddd-6c84-4a8a-a0ad-c67cc2616a5b",
   "metadata": {},
   "source": [
    "**Loading and Inspecting Census Data with Pandas**"
   ]
  },
  {
   "cell_type": "code",
   "execution_count": 2,
   "id": "ed9163c5-b85a-47f8-a622-af50c937d7f3",
   "metadata": {},
   "outputs": [
    {
     "name": "stdout",
     "output_type": "stream",
     "text": [
      "       County  Male_Population  Female_Population  Intersex_Population  \\\n",
      "0     Mombasa           610257             598046                   30   \n",
      "1       Kwale           425121             441681                   18   \n",
      "2      Kilifi           704089             749673                   25   \n",
      "3  Tana River           158550             157391                    2   \n",
      "4        Lamu            76103              67813                    4   \n",
      "\n",
      "   Total_Population  \n",
      "0           1208333  \n",
      "1            866820  \n",
      "2           1453787  \n",
      "3            315943  \n",
      "4            143920  \n"
     ]
    }
   ],
   "source": [
    "import pandas as pd\n",
    "\n",
    "# Load the updated census data\n",
    "census_data = pd.read_csv(\"kenya-population-by-sex-and-county.csv\")\n",
    "\n",
    "# Inspect the data\n",
    "print(census_data.head())\n"
   ]
  },
  {
   "cell_type": "markdown",
   "id": "74b0caa1-04dc-4ec4-9708-670247e0b31e",
   "metadata": {},
   "source": [
    "**Loading, Merging, and Inspecting Kenyan Census Data with Geospatial Information**"
   ]
  },
  {
   "cell_type": "code",
   "execution_count": 21,
   "id": "9d352c1a-4320-4bd4-909a-6a5f85e94678",
   "metadata": {},
   "outputs": [
    {
     "name": "stdout",
     "output_type": "stream",
     "text": [
      "Empty GeoDataFrame\n",
      "Columns: [GID_1, GID_0, COUNTRY, NAME_1, VARNAME_1, NL_NAME_1, TYPE_1, ENGTYPE_1, CC_1, HASC_1, ISO_1, geometry, County, Male_Population, Female_Population, Intersex_Population, Total_Population]\n",
      "Index: []\n"
     ]
    }
   ],
   "source": [
    "import geopandas as gpd\n",
    "\n",
    "# Load the shapefile for Kenyan counties (Level 1)\n",
    "shapefile_path = \"C:/Users/manubungei/Desktop/Data Kaggle/2019 Kenya Population and Housing Census Datasets/Kenyan_Counties/gadm41_KEN_1.shp\"  \n",
    "gdf = gpd.read_file(shapefile_path)\n",
    "\n",
    "# Standardize the names in both datasets (lowercase and strip)\n",
    "gdf['NAME_1'] = gdf['NAME_1'].str.lower().str.strip()\n",
    "census_data['County'] = census_data['County'].str.lower().str.strip()\n",
    "\n",
    "# Merge the shapefile with the census data\n",
    "merged_gdf = gdf.merge(census_data, left_on=\"NAME_1\", right_on=\"County\", how=\"left\")\n",
    "\n",
    "# Check for missing data\n",
    "print(merged_gdf[merged_gdf['Total_Population'].isnull()])\n"
   ]
  },
  {
   "cell_type": "markdown",
   "id": "81440ae2-8517-4f67-974e-90565caa3b71",
   "metadata": {},
   "source": [
    "\n",
    "**Counting Missing Population Data in Merged Geospatial Dataset**"
   ]
  },
  {
   "cell_type": "code",
   "execution_count": 6,
   "id": "bf7e54cd-c2b6-421e-9e25-476cc918afd0",
   "metadata": {},
   "outputs": [
    {
     "data": {
      "text/plain": [
       "0"
      ]
     },
     "execution_count": 6,
     "metadata": {},
     "output_type": "execute_result"
    }
   ],
   "source": [
    "merged_gdf['Total_Population'].isna().sum()  # Count NaN values in the population column\n"
   ]
  },
  {
   "cell_type": "markdown",
   "id": "ade885f9-05a0-48f5-a4ff-366d18725dd0",
   "metadata": {},
   "source": [
    "**Creating an Interactive Map of Kenyan Population Data with Folium and GeoJSON**"
   ]
  },
  {
   "cell_type": "code",
   "execution_count": 8,
   "id": "7c0c781e-39d5-4206-b6a9-47444fdef159",
   "metadata": {},
   "outputs": [
    {
     "name": "stdout",
     "output_type": "stream",
     "text": [
      "Taita Taveta Data: Empty GeoDataFrame\n",
      "Columns: [GID_1, GID_0, COUNTRY, NAME_1, VARNAME_1, NL_NAME_1, TYPE_1, ENGTYPE_1, CC_1, HASC_1, ISO_1, geometry, County, Male_Population, Female_Population, Intersex_Population, Total_Population]\n",
      "Index: []\n",
      "Map saved as 'kenya_population_colored_with_total_population_map.html'\n"
     ]
    }
   ],
   "source": [
    "import folium\n",
    "from folium.features import GeoJsonTooltip\n",
    "import branca\n",
    "\n",
    "# Check for missing data in the merged GeoDataFrame\n",
    "taita_taveta = merged_gdf[merged_gdf['NAME_1'] == 'Taita Taveta']\n",
    "print(\"Taita Taveta Data:\", taita_taveta)\n",
    "\n",
    "# Define a function to determine color based on total population using a continuous color scale\n",
    "# Using LinearColormap from branca for more detailed color gradation, with a maximum of 3 million\n",
    "colormap = branca.colormap.linear.YlOrRd_09.scale(0, 3000000)  # Max value set to 3 million\n",
    "\n",
    "# Add a default value for missing population data\n",
    "def get_population(population):\n",
    "    return population if population is not None else 0  # Handle None values\n",
    "\n",
    "# Create a Folium map centered on Kenya\n",
    "m = folium.Map(location=[0.0236, 37.9062], zoom_start=6)\n",
    "\n",
    "# Add GeoJSON layer with tooltip including Total Population and other population data\n",
    "folium.GeoJson(\n",
    "    merged_gdf,\n",
    "    style_function=lambda x: {\n",
    "        'fillColor': colormap(get_population(x['properties']['Total_Population'])),  # Handle None values\n",
    "        'color': 'black',\n",
    "        'weight': 0.5,\n",
    "        'fillOpacity': 0.7,\n",
    "    },\n",
    "    tooltip=GeoJsonTooltip(\n",
    "        fields=[\"NAME_1\", \"Male_Population\", \"Female_Population\", \"Intersex_Population\", \"Total_Population\"],\n",
    "        aliases=[\"County:\", \"Male Population:\", \"Female Population:\", \"Intersex Population:\", \"Total Population:\"],\n",
    "        localize=True,\n",
    "        sticky=False,\n",
    "        labels=True,\n",
    "        style=(\"background-color: white; color: black; font-family: arial; font-size: 12px; padding: 5px;\"),\n",
    "    ),\n",
    "    highlight_function=lambda x: {\n",
    "        'weight': 3,\n",
    "        'color': 'black',\n",
    "        'fillOpacity': 0.9,\n",
    "        'fillColor': 'blue',  # Enlarge and highlight in blue on hover\n",
    "    }\n",
    ").add_to(m)\n",
    "\n",
    "# Add the colormap to the map as a legend\n",
    "colormap.add_to(m)\n",
    "\n",
    "# Save the map\n",
    "m.save(\"kenya_population_colored_with_total_population_map.html\")\n",
    "print(\"Map saved as 'kenya_population_colored_with_total_population_map.html'\")\n"
   ]
  },
  {
   "cell_type": "markdown",
   "id": "29f212ef-fda6-47b9-80b3-4171daf11666",
   "metadata": {},
   "source": [
    "**Customizing Tooltips for GeoJSON Layer in Folium Map**"
   ]
  },
  {
   "cell_type": "code",
   "execution_count": 10,
   "id": "4a96f90c-fed7-44e2-9128-1ffee96fbe57",
   "metadata": {},
   "outputs": [],
   "source": [
    "tooltip=GeoJsonTooltip(\n",
    "    fields=[\"NAME_1\", \"Male_Population\", \"Female_Population\", \"Intersex_Population\", \"Total_Population\"],\n",
    "    aliases=[\"County:\", \"Male Population:\", \"Female Population:\", \"Intersex Population:\", \"Total Population:\"],\n",
    "    localize=True,\n",
    "    sticky=False,\n",
    "    labels=True,\n",
    "    style=(\"background-color: white; color: black; font-family: arial; font-size: 12px; padding: 5px;\"),\n",
    ")\n"
   ]
  },
  {
   "cell_type": "code",
   "execution_count": null,
   "id": "9e6dc15f-657e-4e59-a9b7-034ce57b68ce",
   "metadata": {},
   "outputs": [],
   "source": []
  }
 ],
 "metadata": {
  "kernelspec": {
   "display_name": "Python 3 (ipykernel)",
   "language": "python",
   "name": "python3"
  },
  "language_info": {
   "codemirror_mode": {
    "name": "ipython",
    "version": 3
   },
   "file_extension": ".py",
   "mimetype": "text/x-python",
   "name": "python",
   "nbconvert_exporter": "python",
   "pygments_lexer": "ipython3",
   "version": "3.12.4"
  }
 },
 "nbformat": 4,
 "nbformat_minor": 5
}
